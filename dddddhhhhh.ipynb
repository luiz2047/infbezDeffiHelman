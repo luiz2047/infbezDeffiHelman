{
 "cells": [
  {
   "cell_type": "code",
   "execution_count": 53,
   "id": "decdbb88",
   "metadata": {},
   "outputs": [],
   "source": [
    "from operator import xor"
   ]
  },
  {
   "cell_type": "code",
   "execution_count": 54,
   "id": "32a61eb8",
   "metadata": {},
   "outputs": [],
   "source": [
    "def change_to_be_hex(s):\n",
    "    return int(s,base=16)"
   ]
  },
  {
   "cell_type": "code",
   "execution_count": 55,
   "id": "4dcc9033",
   "metadata": {},
   "outputs": [],
   "source": [
    "def createKey(string,n):\n",
    "    a = string\n",
    "    while len(a) < n:\n",
    "        a+=a\n",
    "    return a[0:n]\n"
   ]
  },
  {
   "cell_type": "code",
   "execution_count": 56,
   "id": "11a25bf5",
   "metadata": {},
   "outputs": [],
   "source": [
    "def ShifrXor(stringText, SecretKey):\n",
    "    currentKey = createKey(SecretKey, len(stringText))\n",
    "    res = [chr(ord(a) ^ ord(b)) for a,b in zip(stringText, currentKey)]\n",
    "    return res"
   ]
  },
  {
   "cell_type": "code",
   "execution_count": 57,
   "id": "78e994f7",
   "metadata": {},
   "outputs": [],
   "source": [
    "def Encrypt(plainText, password):\n",
    "    return ShifrXor(plainText, password)\n",
    "def Decrypt(encryptedText, password):\n",
    "    return ShifrXor(encryptedText, password)"
   ]
  },
  {
   "cell_type": "markdown",
   "id": "f73d8673",
   "metadata": {},
   "source": [
    "Password - gogi\n",
    "Text - Yayca"
   ]
  },
  {
   "cell_type": "code",
   "execution_count": 58,
   "id": "2619e90a",
   "metadata": {},
   "outputs": [],
   "source": [
    "encrypttext = Encrypt(\"Yayca\", \"gogi\")"
   ]
  },
  {
   "cell_type": "code",
   "execution_count": 59,
   "id": "09f5634c",
   "metadata": {},
   "outputs": [],
   "source": [
    "decrypttext = Decrypt(encrypttext, \"gogi\")"
   ]
  },
  {
   "cell_type": "code",
   "execution_count": 60,
   "id": "27999589",
   "metadata": {},
   "outputs": [
    {
     "data": {
      "text/plain": [
       "['Y', 'a', 'y', 'c', 'a']"
      ]
     },
     "execution_count": 60,
     "metadata": {},
     "output_type": "execute_result"
    }
   ],
   "source": [
    "decrypttext"
   ]
  },
  {
   "cell_type": "code",
   "execution_count": 61,
   "id": "562006cd",
   "metadata": {},
   "outputs": [
    {
     "data": {
      "text/plain": [
       "['>', '\\x0e', '\\x1e', '\\n', '\\x06']"
      ]
     },
     "execution_count": 61,
     "metadata": {},
     "output_type": "execute_result"
    }
   ],
   "source": [
    "encrypttext"
   ]
  }
 ],
 "metadata": {
  "kernelspec": {
   "display_name": "Python 3",
   "language": "python",
   "name": "python3"
  },
  "language_info": {
   "codemirror_mode": {
    "name": "ipython",
    "version": 3
   },
   "file_extension": ".py",
   "mimetype": "text/x-python",
   "name": "python",
   "nbconvert_exporter": "python",
   "pygments_lexer": "ipython3",
   "version": "3.7.11"
  }
 },
 "nbformat": 4,
 "nbformat_minor": 5
}
